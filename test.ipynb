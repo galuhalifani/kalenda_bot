{
 "cells": [
  {
   "cell_type": "code",
   "execution_count": 1,
   "id": "cdb60d21",
   "metadata": {},
   "outputs": [
    {
     "name": "stdout",
     "output_type": "stream",
     "text": [
      "Name: openai\n",
      "Version: 1.76.0\n",
      "Summary: The official Python library for the openai API\n",
      "Home-page: https://github.com/openai/openai-python\n",
      "Author: \n",
      "Author-email: OpenAI <support@openai.com>\n",
      "License: Apache-2.0\n",
      "Location: c:\\users\\galuh\\miniconda\\envs\\py10\\lib\\site-packages\n",
      "Requires: anyio, distro, httpx, jiter, pydantic, sniffio, tqdm, typing-extensions\n",
      "Required-by: langchain-openai\n",
      "Note: you may need to restart the kernel to use updated packages.\n"
     ]
    }
   ],
   "source": [
    "pip show openai"
   ]
  },
  {
   "cell_type": "code",
   "execution_count": 25,
   "id": "bd595562",
   "metadata": {},
   "outputs": [
    {
     "name": "stdout",
     "output_type": "stream",
     "text": [
      "['', ' {\"period\": \"start --- end\",\"calendar\": \"calendar_name\",\"q\": \"specific keyword\"}']\n",
      "{'period': 'start --- end', 'calendar': 'calendar_name', 'q': 'specific keyword'}\n",
      "['start ', ' end']\n",
      "start end calendar_name specific keyword\n"
     ]
    }
   ],
   "source": [
    "import json\n",
    "def get_upcoming_events(instruction):\n",
    "    splitted = instruction.split('retrieve_event:')\n",
    "    is_period_provided = True\n",
    "    print(splitted)\n",
    "\n",
    "instruction = 'retrieve_event: {\"period\": \"start --- end\",\"calendar\": \"calendar_name\",\"q\": \"specific keyword\"}'\n",
    "get_upcoming_events(instruction)\n",
    "\n",
    "json_str = instruction.split('retrieve_event:')[1].strip()\n",
    "event_details = json.loads(json_str)\n",
    "print(event_details)\n",
    "\n",
    "period = event_details.get('period')\n",
    "print(period.split('---'))\n",
    "start = period.split('---')[0].strip()\n",
    "end = period.split('---')[1].strip()\n",
    "calendar = event_details.get('calendar')\n",
    "q = event_details.get('q')\n",
    "print(start, end, calendar, q)"
   ]
  },
  {
   "cell_type": "code",
   "execution_count": 30,
   "id": "4d188c1f",
   "metadata": {},
   "outputs": [
    {
     "data": {
      "text/plain": [
       "{'kind': 'calendar#calendarListEntry',\n",
       " 'etag': '\"1631436896961000\"',\n",
       " 'id': 'galuh.adika@gmail.com',\n",
       " 'summary': 'galuh.adika@gmail.com',\n",
       " 'timeZone': 'Asia/Jakarta',\n",
       " 'colorId': '14',\n",
       " 'backgroundColor': '#9fe1e7',\n",
       " 'foregroundColor': '#000000',\n",
       " 'selected': True,\n",
       " 'accessRole': 'owner',\n",
       " 'defaultReminders': [{'method': 'popup', 'minutes': 30}],\n",
       " 'notificationSettings': {'notifications': [{'type': 'eventCreation',\n",
       "    'method': 'email'},\n",
       "   {'type': 'eventChange', 'method': 'email'},\n",
       "   {'type': 'eventCancellation', 'method': 'email'},\n",
       "   {'type': 'eventResponse', 'method': 'email'},\n",
       "   {'type': 'agenda', 'method': 'email'}]},\n",
       " 'primary': True,\n",
       " 'conferenceProperties': {'allowedConferenceSolutionTypes': ['hangoutsMeet']}}"
      ]
     },
     "execution_count": 30,
     "metadata": {},
     "output_type": "execute_result"
    }
   ],
   "source": [
    "{'kind': 'calendar#calendarListEntry', 'etag': '\"1631436896961000\"', 'id': 'galuh.adika@gmail.com', 'summary': 'galuh.adika@gmail.com', 'timeZone': 'Asia/Jakarta', 'colorId': '14', 'backgroundColor': '#9fe1e7', 'foregroundColor': '#000000', 'selected': True, 'accessRole': 'owner', 'defaultReminders': \n",
    "[{'method': 'popup', 'minutes': 30}], 'notificationSettings': {'notifications': [{'type': 'eventCreation', 'method': 'email'}, {'type': 'eventChange', 'method': 'email'}, {'type': 'eventCancellation', 'method': 'email'}, {'type': 'eventResponse', 'method': 'email'}, {'type': 'agenda', 'method': 'email'}]}, 'primary': True, 'conferenceProperties': {'allowedConferenceSolutionTypes': ['hangoutsMeet']}}"
   ]
  },
  {
   "cell_type": "code",
   "execution_count": 29,
   "id": "5760b90e",
   "metadata": {},
   "outputs": [
    {
     "data": {
      "text/plain": [
       "{'kind': 'calendar#calendarListEntry',\n",
       " 'etag': '\"1531485640007000\"',\n",
       " 'id': 'p27n4nfmhg5kkjc5au4d5khgt4@group.calendar.google.com',\n",
       " 'summary': 'CJBS MBA 2017/18',\n",
       " 'description': 'Shared calendar for MBA classes, common events, etc.',\n",
       " 'timeZone': 'Europe/London',\n",
       " 'colorId': '23',\n",
       " 'backgroundColor': '#cd74e6',\n",
       " 'foregroundColor': '#000000',\n",
       " 'selected': True,\n",
       " 'accessRole': 'owner',\n",
       " 'defaultReminders': [],\n",
       " 'conferenceProperties': {'allowedConferenceSolutionTypes': ['hangoutsMeet']}}"
      ]
     },
     "execution_count": 29,
     "metadata": {},
     "output_type": "execute_result"
    }
   ],
   "source": [
    "{'kind': 'calendar#calendarListEntry', 'etag': '\"1531485640007000\"', 'id': 'p27n4nfmhg5kkjc5au4d5khgt4@group.calendar.google.com', 'summary': 'CJBS MBA 2017/18', 'description': 'Shared calendar for MBA classes, common events, etc.', 'timeZone': 'Europe/London', 'colorId': '23', 'backgroundColor': '#cd74e6', 'foregroundColor': '#000000', 'selected': True, 'accessRole': 'owner', 'defaultReminders': [], 'conferenceProperties': {'allowedConferenceSolutionTypes': ['hangoutsMeet']}}"
   ]
  },
  {
   "cell_type": "code",
   "execution_count": 4,
   "id": "3ad03632",
   "metadata": {},
   "outputs": [
    {
     "name": "stdout",
     "output_type": "stream",
     "text": [
      "d1da5297d6bbacf5a30fcdb0ed4c776a\n"
     ]
    }
   ],
   "source": [
    "import secrets\n",
    "\n",
    "secret_key = secrets.token_hex(16) \n",
    "print(secret_key)"
   ]
  },
  {
   "cell_type": "code",
   "execution_count": 3,
   "id": "1a5822e1",
   "metadata": {},
   "outputs": [
    {
     "name": "stdout",
     "output_type": "stream",
     "text": [
      "########### OPENAI_KEY IN .ENV OK?: True\n",
      "As the moonlight sparkled over the meadow, the gentle unicorn tiptoed through silvery flowers, spreading sweet dreams to every sleeping creature.\n",
      "C:\\Users\\galuh\\miniconda\\envs\\py10\\Library\\ssl\\cacert.pem\n",
      "True\n"
     ]
    }
   ],
   "source": [
    "from openai import OpenAI\n",
    "from dotenv import load_dotenv\n",
    "import os\n",
    "\n",
    "load_dotenv(override=True)\n",
    "OPENAI_KEY=os.getenv('OPENAI_API_KEY')\n",
    "print(f\"########### OPENAI_KEY IN .ENV OK?: {True if OPENAI_KEY != None else False}\", flush=True)\n",
    "\n",
    "client = OpenAI()\n",
    "\n",
    "response = client.responses.create(\n",
    "    model=\"gpt-4.1\",\n",
    "    input=\"Write a one-sentence bedtime story about a unicorn.\"\n",
    ")\n",
    "\n",
    "print(response.output_text)\n",
    "\n",
    "print(os.environ.get(\"SSL_CERT_FILE\", \"Not set\"))\n",
    "print(os.path.isfile(os.environ[\"SSL_CERT_FILE\"]))"
   ]
  }
 ],
 "metadata": {
  "kernelspec": {
   "display_name": "py10",
   "language": "python",
   "name": "python3"
  },
  "language_info": {
   "codemirror_mode": {
    "name": "ipython",
    "version": 3
   },
   "file_extension": ".py",
   "mimetype": "text/x-python",
   "name": "python",
   "nbconvert_exporter": "python",
   "pygments_lexer": "ipython3",
   "version": "3.10.16"
  }
 },
 "nbformat": 4,
 "nbformat_minor": 5
}
